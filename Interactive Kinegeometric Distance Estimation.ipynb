{
 "cells": [
  {
   "cell_type": "markdown",
   "id": "2120bdcc-ebab-422c-b561-1ca14b74de5d",
   "metadata": {},
   "source": [
    "# Interactive Kinegeometric Distance and Velocity Estimation\n",
    "\n",
    "To start the interactive distance and velocity estimation, run the cell. Then choose your settings and press 'start' to begin with the distance estimation. At first you choose the sampler you want to use, there is either the metropolis or the emcee option. Then you choose the mode. At first there is the option to process a single source using own input data, which can be specified using the sliders and textfields below. Then there is the option to either insert a Gaia DR3 source_id or the name of a specific star into the field below. For this you have to select the mode 'single source, source_id'. All the data for this source is then retrieved from Gaia. \n",
    "\n",
    "The last option does the same, but for a .csv file of multiple source_ids specified in the 'Input .csv-file' field. The results are then saved to three .csv files in the 'results' folder, which can be named in the 'Output .pdf/.csv-file' field. There is the  '[custom name]_samples_geo.csv' file, which contains the geometric samples for each source. Then there is the '[custom name]_samples_kinegeo.csv' file, which contains the kinegeometric distance samples and finally, there is the '[custom_name]_summary_statistics.csv' file containing all summary statistics. Additionally, a .pdf file containing distance and velocity plots of all sources can be created when ticking the checkbox 'Create .pdf file containing plots for all sources'. \n"
   ]
  },
  {
   "cell_type": "code",
   "execution_count": 1,
   "id": "305fdf46-8ea0-4954-9907-bd8fba0d3a66",
   "metadata": {},
   "outputs": [
    {
     "data": {
      "application/vnd.jupyter.widget-view+json": {
       "model_id": "3586596e35af43ba9ad893471362776c",
       "version_major": 2,
       "version_minor": 0
      },
      "text/plain": [
       "RadioButtons(description='Sampler:', options=('metropolis', 'emcee'), value='metropolis')"
      ]
     },
     "metadata": {},
     "output_type": "display_data"
    },
    {
     "data": {
      "application/vnd.jupyter.widget-view+json": {
       "model_id": "0e49d352dee94c7f9da01c0490cc8aa0",
       "version_major": 2,
       "version_minor": 0
      },
      "text/plain": [
       "Select(description='Mode:', layout=Layout(width='max-content'), options=('single source, own data', 'single so…"
      ]
     },
     "metadata": {},
     "output_type": "display_data"
    },
    {
     "data": {
      "application/vnd.jupyter.widget-view+json": {
       "model_id": "d6ebba6b0a9142fda2cb718f30524d98",
       "version_major": 2,
       "version_minor": 0
      },
      "text/plain": [
       "HBox(children=(Text(value='3490289711213205632', description='source_id/name', style=DescriptionStyle(descript…"
      ]
     },
     "metadata": {},
     "output_type": "display_data"
    },
    {
     "data": {
      "application/vnd.jupyter.widget-view+json": {
       "model_id": "2964acbb051e45ff970936333ad54dbd",
       "version_major": 2,
       "version_minor": 0
      },
      "text/plain": [
       "Text(value='velocity_test', description='Input .csv-file')"
      ]
     },
     "metadata": {},
     "output_type": "display_data"
    },
    {
     "data": {
      "application/vnd.jupyter.widget-view+json": {
       "model_id": "600ab036c59643e8b1a3ee047eb1726e",
       "version_major": 2,
       "version_minor": 0
      },
      "text/plain": [
       "Text(value='velocity_results', description='Output .pdf/.csv-file', style=DescriptionStyle(description_width='…"
      ]
     },
     "metadata": {},
     "output_type": "display_data"
    },
    {
     "data": {
      "application/vnd.jupyter.widget-view+json": {
       "model_id": "89f11119093b405fab89a0e8d0be215a",
       "version_major": 2,
       "version_minor": 0
      },
      "text/plain": [
       "Checkbox(value=False, description='Create .pdf file containing plots for all sources', layout=Layout(flex='8')…"
      ]
     },
     "metadata": {},
     "output_type": "display_data"
    },
    {
     "data": {
      "application/vnd.jupyter.widget-view+json": {
       "model_id": "86976dd77df847b2902334dd8ebb09b4",
       "version_major": 2,
       "version_minor": 0
      },
      "text/plain": [
       "IntText(value=123, description='seed', style=DescriptionStyle(description_width='initial'))"
      ]
     },
     "metadata": {},
     "output_type": "display_data"
    },
    {
     "data": {
      "text/markdown": [
       " "
      ],
      "text/plain": [
       "<IPython.core.display.Markdown object>"
      ]
     },
     "metadata": {},
     "output_type": "display_data"
    },
    {
     "data": {
      "text/markdown": [
       "**General sampling settings:** "
      ],
      "text/plain": [
       "<IPython.core.display.Markdown object>"
      ]
     },
     "metadata": {},
     "output_type": "display_data"
    },
    {
     "data": {
      "text/markdown": [
       "(are used for each possible mode) "
      ],
      "text/plain": [
       "<IPython.core.display.Markdown object>"
      ]
     },
     "metadata": {},
     "output_type": "display_data"
    },
    {
     "data": {
      "application/vnd.jupyter.widget-view+json": {
       "model_id": "df6872f97617451195807d0b8c8ce504",
       "version_major": 2,
       "version_minor": 0
      },
      "text/plain": [
       "HBox(children=(IntSlider(value=5000, continuous_update=False, description='number of posterior samples after r…"
      ]
     },
     "metadata": {},
     "output_type": "display_data"
    },
    {
     "data": {
      "application/vnd.jupyter.widget-view+json": {
       "model_id": "6d69c00a4b574beea429cb1c9eca69d9",
       "version_major": 2,
       "version_minor": 0
      },
      "text/plain": [
       "HBox(children=(IntSlider(value=500, continuous_update=False, description='number of burn-in samples:', layout=…"
      ]
     },
     "metadata": {},
     "output_type": "display_data"
    },
    {
     "data": {
      "application/vnd.jupyter.widget-view+json": {
       "model_id": "73fa810d1f364fb4a6562e30405186f1",
       "version_major": 2,
       "version_minor": 0
      },
      "text/plain": [
       "HBox(children=(IntSlider(value=10, continuous_update=False, description='thinning factor:', layout=Layout(flex…"
      ]
     },
     "metadata": {},
     "output_type": "display_data"
    },
    {
     "data": {
      "application/vnd.jupyter.widget-view+json": {
       "model_id": "bc1c07e0284946048f570897e4526946",
       "version_major": 2,
       "version_minor": 0
      },
      "text/plain": [
       "HBox(children=(IntSlider(value=1, continuous_update=False, description='Number of velocity samples drawn for e…"
      ]
     },
     "metadata": {},
     "output_type": "display_data"
    },
    {
     "data": {
      "text/markdown": [
       "(set to 1 if unsure what this is)"
      ],
      "text/plain": [
       "<IPython.core.display.Markdown object>"
      ]
     },
     "metadata": {},
     "output_type": "display_data"
    },
    {
     "data": {
      "text/markdown": [
       " "
      ],
      "text/plain": [
       "<IPython.core.display.Markdown object>"
      ]
     },
     "metadata": {},
     "output_type": "display_data"
    },
    {
     "data": {
      "text/markdown": [
       "**Sampling settings only required for metropolis when processing a single source:**"
      ],
      "text/plain": [
       "<IPython.core.display.Markdown object>"
      ]
     },
     "metadata": {},
     "output_type": "display_data"
    },
    {
     "data": {
      "text/markdown": [
       "(when processing multiple sources, the initialisation will be 1/abs(parallax) and the stepsize will be 0.75* initialisation* min(1/3,abs(parallax_error/parallax)))"
      ],
      "text/plain": [
       "<IPython.core.display.Markdown object>"
      ]
     },
     "metadata": {},
     "output_type": "display_data"
    },
    {
     "data": {
      "application/vnd.jupyter.widget-view+json": {
       "model_id": "5640fe6c145349b89f501410fee2ce54",
       "version_major": 2,
       "version_minor": 0
      },
      "text/plain": [
       "HBox(children=(FloatSlider(value=1.0, continuous_update=False, description='starting value of Metropolis algor…"
      ]
     },
     "metadata": {},
     "output_type": "display_data"
    },
    {
     "data": {
      "application/vnd.jupyter.widget-view+json": {
       "model_id": "af50a503aae0407aab433e48bd47fda9",
       "version_major": 2,
       "version_minor": 0
      },
      "text/plain": [
       "HBox(children=(FloatSlider(value=0.25, continuous_update=False, description='stepsize of Metropolis algorithm …"
      ]
     },
     "metadata": {},
     "output_type": "display_data"
    },
    {
     "data": {
      "text/markdown": [
       " "
      ],
      "text/plain": [
       "<IPython.core.display.Markdown object>"
      ]
     },
     "metadata": {},
     "output_type": "display_data"
    },
    {
     "data": {
      "text/markdown": [
       "**Sampling settings only required for emcee when processing a single source:** "
      ],
      "text/plain": [
       "<IPython.core.display.Markdown object>"
      ]
     },
     "metadata": {},
     "output_type": "display_data"
    },
    {
     "data": {
      "text/markdown": [
       "(when processing multiple sources: 4 walkers; initialisatzion: random value between 0.5 and 1.5 * 1/abs(parallax))"
      ],
      "text/plain": [
       "<IPython.core.display.Markdown object>"
      ]
     },
     "metadata": {},
     "output_type": "display_data"
    },
    {
     "data": {
      "application/vnd.jupyter.widget-view+json": {
       "model_id": "595354e484df41079f012301d8d85621",
       "version_major": 2,
       "version_minor": 0
      },
      "text/plain": [
       "Text(value='0.31, 0.35, 0.36, 0.37', description='walker initialisation [kpc]', layout=Layout(flex='8'), style…"
      ]
     },
     "metadata": {},
     "output_type": "display_data"
    },
    {
     "data": {
      "text/markdown": [
       " "
      ],
      "text/plain": [
       "<IPython.core.display.Markdown object>"
      ]
     },
     "metadata": {},
     "output_type": "display_data"
    },
    {
     "data": {
      "text/markdown": [
       "**Input data when using own input data for a single source:**"
      ],
      "text/plain": [
       "<IPython.core.display.Markdown object>"
      ]
     },
     "metadata": {},
     "output_type": "display_data"
    },
    {
     "data": {
      "application/vnd.jupyter.widget-view+json": {
       "model_id": "11d7ed693f2a46369ebf0de0363e01f0",
       "version_major": 2,
       "version_minor": 0
      },
      "text/plain": [
       "HBox(children=(FloatSlider(value=2.8, continuous_update=False, description='parallax [mas]:', layout=Layout(fl…"
      ]
     },
     "metadata": {},
     "output_type": "display_data"
    },
    {
     "data": {
      "application/vnd.jupyter.widget-view+json": {
       "model_id": "336a127a1e8046cd9d340650e6acc0e6",
       "version_major": 2,
       "version_minor": 0
      },
      "text/plain": [
       "HBox(children=(FloatSlider(value=0.4, continuous_update=False, description='parallax error [mas]:', layout=Lay…"
      ]
     },
     "metadata": {},
     "output_type": "display_data"
    },
    {
     "data": {
      "application/vnd.jupyter.widget-view+json": {
       "model_id": "f6448d7195a04697b3c074edda3b66ff",
       "version_major": 2,
       "version_minor": 0
      },
      "text/plain": [
       "HBox(children=(FloatSlider(value=3.41901757752753e-06, continuous_update=False, description='Length scale [kpc…"
      ]
     },
     "metadata": {},
     "output_type": "display_data"
    },
    {
     "data": {
      "application/vnd.jupyter.widget-view+json": {
       "model_id": "e59b740eba0749fd92c37d7545bebeb6",
       "version_major": 2,
       "version_minor": 0
      },
      "text/plain": [
       "HBox(children=(FloatSlider(value=0.2, continuous_update=False, description='alpha:', layout=Layout(flex='8'), …"
      ]
     },
     "metadata": {},
     "output_type": "display_data"
    },
    {
     "data": {
      "application/vnd.jupyter.widget-view+json": {
       "model_id": "06990a5dffd7429eb958b5b8eb59df1f",
       "version_major": 2,
       "version_minor": 0
      },
      "text/plain": [
       "HBox(children=(FloatSlider(value=3.0, continuous_update=False, description='beta:', layout=Layout(flex='8'), m…"
      ]
     },
     "metadata": {},
     "output_type": "display_data"
    },
    {
     "data": {
      "application/vnd.jupyter.widget-view+json": {
       "model_id": "3b6c2965ab4746388770e3e0bc28f088",
       "version_major": 2,
       "version_minor": 0
      },
      "text/plain": [
       "HBox(children=(FloatSlider(value=-6.2, continuous_update=False, description='propm ra [km/s]: ', layout=Layout…"
      ]
     },
     "metadata": {},
     "output_type": "display_data"
    },
    {
     "data": {
      "application/vnd.jupyter.widget-view+json": {
       "model_id": "1523bb97e44f424694703e20431ca0a6",
       "version_major": 2,
       "version_minor": 0
      },
      "text/plain": [
       "HBox(children=(FloatSlider(value=-16.7, continuous_update=False, description='propm dec [km/s]: ', layout=Layo…"
      ]
     },
     "metadata": {},
     "output_type": "display_data"
    },
    {
     "data": {
      "application/vnd.jupyter.widget-view+json": {
       "model_id": "a8ef13237268418ab804a19d4103c464",
       "version_major": 2,
       "version_minor": 0
      },
      "text/plain": [
       "HBox(children=(FloatSlider(value=0.87, continuous_update=False, description='propm ra error[km/s]: ', layout=L…"
      ]
     },
     "metadata": {},
     "output_type": "display_data"
    },
    {
     "data": {
      "application/vnd.jupyter.widget-view+json": {
       "model_id": "b94d2645752e4a7d99fe64004143b2f1",
       "version_major": 2,
       "version_minor": 0
      },
      "text/plain": [
       "HBox(children=(FloatSlider(value=0.55, continuous_update=False, description='propm dec error[km/s]: ', layout=…"
      ]
     },
     "metadata": {},
     "output_type": "display_data"
    },
    {
     "data": {
      "application/vnd.jupyter.widget-view+json": {
       "model_id": "8c4a1a5a5c944193ad75221477823605",
       "version_major": 2,
       "version_minor": 0
      },
      "text/plain": [
       "HBox(children=(FloatSlider(value=0.25, continuous_update=False, description='parallax - propm ra correlation: …"
      ]
     },
     "metadata": {},
     "output_type": "display_data"
    },
    {
     "data": {
      "application/vnd.jupyter.widget-view+json": {
       "model_id": "907465ef52e54bdcb736bb8a622508ad",
       "version_major": 2,
       "version_minor": 0
      },
      "text/plain": [
       "HBox(children=(FloatSlider(value=0.14, continuous_update=False, description='parallax - propm dec correlation:…"
      ]
     },
     "metadata": {},
     "output_type": "display_data"
    },
    {
     "data": {
      "application/vnd.jupyter.widget-view+json": {
       "model_id": "5690a23112634c55afd2d7354f84c37f",
       "version_major": 2,
       "version_minor": 0
      },
      "text/plain": [
       "HBox(children=(FloatSlider(value=-0.37, continuous_update=False, description='propm ra - propm dec correlation…"
      ]
     },
     "metadata": {},
     "output_type": "display_data"
    },
    {
     "data": {
      "application/vnd.jupyter.widget-view+json": {
       "model_id": "40e604c09be04500bcb528329ac49a6f",
       "version_major": 2,
       "version_minor": 0
      },
      "text/plain": [
       "HBox(children=(IntSlider(value=50, continuous_update=False, description='healpix: ', layout=Layout(flex='8'), …"
      ]
     },
     "metadata": {},
     "output_type": "display_data"
    },
    {
     "data": {
      "text/markdown": [
       " "
      ],
      "text/plain": [
       "<IPython.core.display.Markdown object>"
      ]
     },
     "metadata": {},
     "output_type": "display_data"
    },
    {
     "data": {
      "application/vnd.jupyter.widget-view+json": {
       "model_id": "51374099cb87401bb650ec93857b127b",
       "version_major": 2,
       "version_minor": 0
      },
      "text/plain": [
       "Button(description='start', style=ButtonStyle())"
      ]
     },
     "metadata": {},
     "output_type": "display_data"
    },
    {
     "data": {
      "application/vnd.jupyter.widget-view+json": {
       "model_id": "361a283fffbf4eab87bfb7cb9f8eb22c",
       "version_major": 2,
       "version_minor": 0
      },
      "text/plain": [
       "Output()"
      ]
     },
     "metadata": {},
     "output_type": "display_data"
    }
   ],
   "source": [
    "import interactive_display\n",
    "from interactive_display import *\n",
    "out"
   ]
  },
  {
   "cell_type": "code",
   "execution_count": null,
   "id": "6f21bfe4-86f3-44df-ab56-39af5b2e5ba3",
   "metadata": {},
   "outputs": [],
   "source": []
  }
 ],
 "metadata": {
  "kernelspec": {
   "display_name": "Python 3 (ipykernel)",
   "language": "python",
   "name": "python3"
  },
  "language_info": {
   "codemirror_mode": {
    "name": "ipython",
    "version": 3
   },
   "file_extension": ".py",
   "mimetype": "text/x-python",
   "name": "python",
   "nbconvert_exporter": "python",
   "pygments_lexer": "ipython3",
   "version": "3.9.13"
  }
 },
 "nbformat": 4,
 "nbformat_minor": 5
}
