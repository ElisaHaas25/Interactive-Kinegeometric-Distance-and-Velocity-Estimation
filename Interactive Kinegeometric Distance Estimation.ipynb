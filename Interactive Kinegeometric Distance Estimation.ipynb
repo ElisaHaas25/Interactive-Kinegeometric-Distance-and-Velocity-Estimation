{
 "cells": [
  {
   "cell_type": "code",
   "execution_count": 1,
   "id": "cbd1e212-8ec8-497e-a21b-1e955052e83e",
   "metadata": {},
   "outputs": [
    {
     "name": "stdout",
     "output_type": "stream",
     "text": [
      "Important:  Gaia archive will be intermittently unavailable due to scheduled maintenance on 03-08-2024 from 08:00 to 08:30 (CEST)\n"
     ]
    }
   ],
   "source": [
    "from packages import *\n",
    "from functions import *\n",
    "from interactive_functions import *\n",
    "import csv\n",
    "#from configurations import *\n",
    "#import ipywidgets as widgets\n",
    "#from IPython.display import display, Markdown\n"
   ]
  },
  {
   "cell_type": "code",
   "execution_count": 2,
   "id": "35336e51-9fd9-482a-9ec2-65465ee6a54a",
   "metadata": {},
   "outputs": [],
   "source": [
    "rows_prior_summary = np.loadtxt('prior_summary.csv', delimiter=',',skiprows=1)\n",
    "        \n",
    "\n",
    "        \n",
    "    "
   ]
  },
  {
   "cell_type": "code",
   "execution_count": 3,
   "id": "39f7dec4-bf21-4fa3-96e9-1b624fa373ed",
   "metadata": {
    "tags": []
   },
   "outputs": [
    {
     "data": {
      "application/vnd.jupyter.widget-view+json": {
       "model_id": "89bd8254909c4650a7fa0399d0776c01",
       "version_major": 2,
       "version_minor": 0
      },
      "text/plain": [
       "RadioButtons(description='Sampler:', options=('metropolis', 'emcee'), value='metropolis')"
      ]
     },
     "metadata": {},
     "output_type": "display_data"
    },
    {
     "data": {
      "application/vnd.jupyter.widget-view+json": {
       "model_id": "dd14768010d34e9a98943cd831369d68",
       "version_major": 2,
       "version_minor": 0
      },
      "text/plain": [
       "Select(description='Mode:', layout=Layout(width='max-content'), options=('single source, own data', 'single so…"
      ]
     },
     "metadata": {},
     "output_type": "display_data"
    },
    {
     "data": {
      "application/vnd.jupyter.widget-view+json": {
       "model_id": "aee8a5c789b646b2ad3a4519e2da9f07",
       "version_major": 2,
       "version_minor": 0
      },
      "text/plain": [
       "HBox(children=(Text(value='3490289711213205632', description='source_id/name', style=DescriptionStyle(descript…"
      ]
     },
     "metadata": {},
     "output_type": "display_data"
    },
    {
     "data": {
      "application/vnd.jupyter.widget-view+json": {
       "model_id": "7e753c59033b4dbb80c4850c8d735579",
       "version_major": 2,
       "version_minor": 0
      },
      "text/plain": [
       "Text(value='velocity_test', description='Input .csv-file')"
      ]
     },
     "metadata": {},
     "output_type": "display_data"
    },
    {
     "data": {
      "application/vnd.jupyter.widget-view+json": {
       "model_id": "80b0adf4595a419e855b61af61fec158",
       "version_major": 2,
       "version_minor": 0
      },
      "text/plain": [
       "Text(value='velocity_results', description='Output .pdf/.csv-file', style=DescriptionStyle(description_width='…"
      ]
     },
     "metadata": {},
     "output_type": "display_data"
    },
    {
     "data": {
      "application/vnd.jupyter.widget-view+json": {
       "model_id": "0e1a2c375d9a4c29be90ecf69a7cb04c",
       "version_major": 2,
       "version_minor": 0
      },
      "text/plain": [
       "IntText(value=123, description='seed', style=DescriptionStyle(description_width='initial'))"
      ]
     },
     "metadata": {},
     "output_type": "display_data"
    },
    {
     "data": {
      "text/markdown": [
       " "
      ],
      "text/plain": [
       "<IPython.core.display.Markdown object>"
      ]
     },
     "metadata": {},
     "output_type": "display_data"
    },
    {
     "data": {
      "text/markdown": [
       "**General sampling settings:** "
      ],
      "text/plain": [
       "<IPython.core.display.Markdown object>"
      ]
     },
     "metadata": {},
     "output_type": "display_data"
    },
    {
     "data": {
      "text/markdown": [
       "(are used for each possible mode) "
      ],
      "text/plain": [
       "<IPython.core.display.Markdown object>"
      ]
     },
     "metadata": {},
     "output_type": "display_data"
    },
    {
     "data": {
      "application/vnd.jupyter.widget-view+json": {
       "model_id": "27896ceef0c5480ab063a55673c3bf51",
       "version_major": 2,
       "version_minor": 0
      },
      "text/plain": [
       "HBox(children=(IntSlider(value=5000, continuous_update=False, description='number of posterior samples:', layo…"
      ]
     },
     "metadata": {},
     "output_type": "display_data"
    },
    {
     "data": {
      "application/vnd.jupyter.widget-view+json": {
       "model_id": "fb1551525c084862b0a8b285933470bf",
       "version_major": 2,
       "version_minor": 0
      },
      "text/plain": [
       "HBox(children=(IntSlider(value=500, continuous_update=False, description='number of burn-in samples:', layout=…"
      ]
     },
     "metadata": {},
     "output_type": "display_data"
    },
    {
     "data": {
      "application/vnd.jupyter.widget-view+json": {
       "model_id": "b7d7dbb5d6414ac594810dfaaba89bfb",
       "version_major": 2,
       "version_minor": 0
      },
      "text/plain": [
       "HBox(children=(IntSlider(value=10, continuous_update=False, description='thinning factor:', layout=Layout(flex…"
      ]
     },
     "metadata": {},
     "output_type": "display_data"
    },
    {
     "data": {
      "application/vnd.jupyter.widget-view+json": {
       "model_id": "14397c4c7c614ad58ac294ec709ee3bc",
       "version_major": 2,
       "version_minor": 0
      },
      "text/plain": [
       "HBox(children=(IntSlider(value=1, continuous_update=False, description='Number of velocity samples drawn for e…"
      ]
     },
     "metadata": {},
     "output_type": "display_data"
    },
    {
     "data": {
      "text/markdown": [
       " "
      ],
      "text/plain": [
       "<IPython.core.display.Markdown object>"
      ]
     },
     "metadata": {},
     "output_type": "display_data"
    },
    {
     "data": {
      "text/markdown": [
       "**Sampling settings only required for metropolis when processing a single source:**"
      ],
      "text/plain": [
       "<IPython.core.display.Markdown object>"
      ]
     },
     "metadata": {},
     "output_type": "display_data"
    },
    {
     "data": {
      "text/markdown": [
       "(when processing multiple sources, the initialisation will be 1/abs(parallax) and the stepsize will be 0.75* initialisation* min(1/3,abs(parallax_error/parallax)))"
      ],
      "text/plain": [
       "<IPython.core.display.Markdown object>"
      ]
     },
     "metadata": {},
     "output_type": "display_data"
    },
    {
     "data": {
      "application/vnd.jupyter.widget-view+json": {
       "model_id": "1c41a0c425d14b978b2245f8c02d2257",
       "version_major": 2,
       "version_minor": 0
      },
      "text/plain": [
       "HBox(children=(FloatSlider(value=1.0, continuous_update=False, description='starting value of Metropolis algor…"
      ]
     },
     "metadata": {},
     "output_type": "display_data"
    },
    {
     "data": {
      "application/vnd.jupyter.widget-view+json": {
       "model_id": "27b2c2303a6142f7b133a1d763aa6f46",
       "version_major": 2,
       "version_minor": 0
      },
      "text/plain": [
       "HBox(children=(FloatSlider(value=0.25, continuous_update=False, description='stepsize of Metropolis algorithm …"
      ]
     },
     "metadata": {},
     "output_type": "display_data"
    },
    {
     "data": {
      "text/markdown": [
       " "
      ],
      "text/plain": [
       "<IPython.core.display.Markdown object>"
      ]
     },
     "metadata": {},
     "output_type": "display_data"
    },
    {
     "data": {
      "text/markdown": [
       "**Sampling settings only required for emcee when processing a single source:** "
      ],
      "text/plain": [
       "<IPython.core.display.Markdown object>"
      ]
     },
     "metadata": {},
     "output_type": "display_data"
    },
    {
     "data": {
      "application/vnd.jupyter.widget-view+json": {
       "model_id": "b031f6cfd3034db0b7a9013f3985b96b",
       "version_major": 2,
       "version_minor": 0
      },
      "text/plain": [
       "Text(value='0.31, 0.35, 0.36, 0.37', description='walker initialisation [kpc]', layout=Layout(flex='8'), style…"
      ]
     },
     "metadata": {},
     "output_type": "display_data"
    },
    {
     "data": {
      "text/markdown": [
       " "
      ],
      "text/plain": [
       "<IPython.core.display.Markdown object>"
      ]
     },
     "metadata": {},
     "output_type": "display_data"
    },
    {
     "data": {
      "text/markdown": [
       "**Input data when using own input data for a single source:**"
      ],
      "text/plain": [
       "<IPython.core.display.Markdown object>"
      ]
     },
     "metadata": {},
     "output_type": "display_data"
    },
    {
     "data": {
      "application/vnd.jupyter.widget-view+json": {
       "model_id": "5ecf43952ef24fb19c515c7d6640dc60",
       "version_major": 2,
       "version_minor": 0
      },
      "text/plain": [
       "HBox(children=(FloatSlider(value=2.8, continuous_update=False, description='parallax [mas]:', layout=Layout(fl…"
      ]
     },
     "metadata": {},
     "output_type": "display_data"
    },
    {
     "data": {
      "application/vnd.jupyter.widget-view+json": {
       "model_id": "a0fff1d0b0144562b2303ea63c034eb8",
       "version_major": 2,
       "version_minor": 0
      },
      "text/plain": [
       "HBox(children=(FloatSlider(value=0.4, continuous_update=False, description='parallax error [mas]:', layout=Lay…"
      ]
     },
     "metadata": {},
     "output_type": "display_data"
    },
    {
     "data": {
      "application/vnd.jupyter.widget-view+json": {
       "model_id": "6964915e84324f4c8e3c90721ce87d38",
       "version_major": 2,
       "version_minor": 0
      },
      "text/plain": [
       "HBox(children=(FloatSlider(value=3.41901757752753e-06, continuous_update=False, description='Length scale [kpc…"
      ]
     },
     "metadata": {},
     "output_type": "display_data"
    },
    {
     "data": {
      "application/vnd.jupyter.widget-view+json": {
       "model_id": "fef6e4a0ec724cd1acb29e727c4c0ee4",
       "version_major": 2,
       "version_minor": 0
      },
      "text/plain": [
       "HBox(children=(FloatSlider(value=0.2, continuous_update=False, description='alpha:', layout=Layout(flex='8'), …"
      ]
     },
     "metadata": {},
     "output_type": "display_data"
    },
    {
     "data": {
      "application/vnd.jupyter.widget-view+json": {
       "model_id": "3491350ab1604378ba994cf3b1af46cc",
       "version_major": 2,
       "version_minor": 0
      },
      "text/plain": [
       "HBox(children=(FloatSlider(value=3.0, continuous_update=False, description='beta:', layout=Layout(flex='8'), m…"
      ]
     },
     "metadata": {},
     "output_type": "display_data"
    },
    {
     "data": {
      "application/vnd.jupyter.widget-view+json": {
       "model_id": "c76b5b8c619c4843ad55ab94e5e30f9f",
       "version_major": 2,
       "version_minor": 0
      },
      "text/plain": [
       "HBox(children=(FloatSlider(value=-6.2, continuous_update=False, description='propm ra [km/s]: ', layout=Layout…"
      ]
     },
     "metadata": {},
     "output_type": "display_data"
    },
    {
     "data": {
      "application/vnd.jupyter.widget-view+json": {
       "model_id": "a17513fe7b92461e8d881bcbe829b49e",
       "version_major": 2,
       "version_minor": 0
      },
      "text/plain": [
       "HBox(children=(FloatSlider(value=-16.7, continuous_update=False, description='propm dec [km/s]: ', layout=Layo…"
      ]
     },
     "metadata": {},
     "output_type": "display_data"
    },
    {
     "data": {
      "application/vnd.jupyter.widget-view+json": {
       "model_id": "9dab443a5f204ef4a51f91fa21c47f96",
       "version_major": 2,
       "version_minor": 0
      },
      "text/plain": [
       "HBox(children=(FloatSlider(value=0.87, continuous_update=False, description='propm ra error[km/s]: ', layout=L…"
      ]
     },
     "metadata": {},
     "output_type": "display_data"
    },
    {
     "data": {
      "application/vnd.jupyter.widget-view+json": {
       "model_id": "a9ab21eb4ad648e09a523d5487cc7bdd",
       "version_major": 2,
       "version_minor": 0
      },
      "text/plain": [
       "HBox(children=(FloatSlider(value=0.55, continuous_update=False, description='propm dec error[km/s]: ', layout=…"
      ]
     },
     "metadata": {},
     "output_type": "display_data"
    },
    {
     "data": {
      "application/vnd.jupyter.widget-view+json": {
       "model_id": "d8cc1c0934794b3cbbd107a81f1c15c6",
       "version_major": 2,
       "version_minor": 0
      },
      "text/plain": [
       "HBox(children=(FloatSlider(value=0.25, continuous_update=False, description='parallax - propm ra correlation: …"
      ]
     },
     "metadata": {},
     "output_type": "display_data"
    },
    {
     "data": {
      "application/vnd.jupyter.widget-view+json": {
       "model_id": "894d45adb36e45eeb0418a83774519d3",
       "version_major": 2,
       "version_minor": 0
      },
      "text/plain": [
       "HBox(children=(FloatSlider(value=0.14, continuous_update=False, description='parallax - propm dec correlation:…"
      ]
     },
     "metadata": {},
     "output_type": "display_data"
    },
    {
     "data": {
      "application/vnd.jupyter.widget-view+json": {
       "model_id": "e60fb8b30ae1432b808dc5615952cd7c",
       "version_major": 2,
       "version_minor": 0
      },
      "text/plain": [
       "HBox(children=(FloatSlider(value=-0.37, continuous_update=False, description='propm ra - propm dec correlation…"
      ]
     },
     "metadata": {},
     "output_type": "display_data"
    },
    {
     "data": {
      "application/vnd.jupyter.widget-view+json": {
       "model_id": "79e4849273b940ec80b24ca813ced450",
       "version_major": 2,
       "version_minor": 0
      },
      "text/plain": [
       "HBox(children=(IntSlider(value=50, continuous_update=False, description='healpix: ', layout=Layout(flex='8'), …"
      ]
     },
     "metadata": {},
     "output_type": "display_data"
    },
    {
     "data": {
      "application/vnd.jupyter.widget-view+json": {
       "model_id": "6e3931ad6f224869b41856ae9bd063d6",
       "version_major": 2,
       "version_minor": 0
      },
      "text/plain": [
       "Button(description='start', style=ButtonStyle())"
      ]
     },
     "metadata": {},
     "output_type": "display_data"
    },
    {
     "data": {
      "application/vnd.jupyter.widget-view+json": {
       "model_id": "d46a10892bb6432bb03deaf1b4cfcd27",
       "version_major": 2,
       "version_minor": 0
      },
      "text/plain": [
       "Output()"
      ]
     },
     "metadata": {},
     "output_type": "display_data"
    }
   ],
   "source": [
    "%matplotlib inline\n",
    "seed = widgets.IntText(\n",
    "    value=123,\n",
    "    description='seed',\n",
    "    disabled=False,\n",
    "    style = {'description_width': 'initial'}\n",
    ")\n",
    "\n",
    "#button to select the sampler\n",
    "\n",
    "sampler = widgets.RadioButtons(\n",
    "    options=['metropolis', 'emcee'],\n",
    "    description='Sampler:',\n",
    "    disabled=False\n",
    ")\n",
    "\n",
    "#field to insert source_id\n",
    "\n",
    "source_id = widgets.Text(\n",
    "    value='3490289711213205632',\n",
    "    description='source_id/name',\n",
    "    disabled=False,\n",
    "    style = {'description_width': 'initial'}\n",
    ")\n",
    "\n",
    "description_text = widgets.Label(value='Gaia DR3 source_id (without ‘Gaia DR3’) or name to be resolved at Simbad. Mode \"Single\" must be selected to use this.')\n",
    "\n",
    "#field to insert name of file containing source_ids or (name, parallax, parallax_error, ra, dec)\n",
    "\n",
    "filename_in = widgets.Text(\n",
    "    value='velocity_test',\n",
    "    description='Input .csv-file',\n",
    "    disabled=False\n",
    ")\n",
    "\n",
    "#field to name the output file\n",
    "\n",
    "filename_out = widgets.Text(\n",
    "    value='velocity_results',\n",
    "    description='Output .pdf/.csv-file',\n",
    "    disabled=False,\n",
    "    style = {'description_width': 'initial'}\n",
    ")\n",
    "\n",
    "# Buttons to select the mode\n",
    "\n",
    "data = widgets.Select(\n",
    "    options=['single source, own data', 'single source, source_id', 'multiple source_ids in .csv file'],\n",
    "    value='single source, own data',\n",
    "    # rows=10,\n",
    "    description='Mode:',\n",
    "    layout={'width': 'max-content'},\n",
    "    disabled=False\n",
    ")\n",
    "\n",
    "\n",
    "# rInit slider\n",
    "\n",
    "rInit0 = widgets.FloatSlider(\n",
    "    value=1,\n",
    "    min=0,\n",
    "    max=2,\n",
    "    step=0.001,\n",
    "    description='starting value of Metropolis algorithm [kpc]:',\n",
    "    disabled = False,\n",
    "    continuous_update=False,\n",
    "    orientation='horizontal',\n",
    "    readout=False,\n",
    "    readout_format='.4f',\n",
    "    style = {'description_width': 'initial'},\n",
    "    layout=widgets.Layout(flex='8')\n",
    ")\n",
    "\n",
    "#textfield connected to parallax metrop-start_slider\n",
    "\n",
    "rInit = widgets.FloatText(layout=widgets.Layout(width='25%'),flex='2')\n",
    "widgets.jslink((rInit0, 'value'), (rInit, 'value'))\n",
    "\n",
    "\n",
    "#stepsize slider\n",
    "\n",
    "rStep0 = widgets.FloatSlider(\n",
    "    value=0.25,\n",
    "    min=0,\n",
    "    max=0.5,\n",
    "    step=0.001,\n",
    "    description='stepsize of Metropolis algorithm [kpc]:',\n",
    "    disabled = False,\n",
    "    continuous_update=False,\n",
    "    orientation='horizontal',\n",
    "    readout=False,\n",
    "    readout_format='.3f',\n",
    "    style = {'description_width': 'initial'},\n",
    "    layout=widgets.Layout(flex='8')\n",
    ")\n",
    "\n",
    "#textfield connected to rStep_slider\n",
    "\n",
    "rStep = widgets.FloatText(layout=widgets.Layout(width='25%'),flex='2')\n",
    "widgets.jslink((rStep0, 'value'), (rStep, 'value'))\n",
    "\n",
    "#Nsamp slider\n",
    "\n",
    "Nsamp0 = widgets.IntSlider(\n",
    "    value = 5000,\n",
    "    min=0,\n",
    "    max=10000,\n",
    "    step=1,\n",
    "    description='number of posterior samples:',\n",
    "    disabled = False,\n",
    "    continuous_update=False,\n",
    "    orientation='horizontal',\n",
    "    readout=False,\n",
    "    readout_format='.2f',\n",
    "    style = {'description_width': 'initial'},\n",
    "    layout=widgets.Layout(flex='8')\n",
    ")\n",
    "\n",
    "#textfield connected to parallax Nsamp_slider\n",
    "\n",
    "Nsamp = widgets.IntText(layout=widgets.Layout(width='25%'),flex='2')\n",
    "widgets.jslink((Nsamp0, 'value'), (Nsamp, 'value'))\n",
    "\n",
    "#n slider\n",
    "\n",
    "n0 = widgets.IntSlider(\n",
    "    value = 1,\n",
    "    min=1,\n",
    "    max=10,\n",
    "    step=1,\n",
    "    description='Number of velocity samples drawn for each of the MCMC distance samples:',\n",
    "    disabled = False,\n",
    "    continuous_update=False,\n",
    "    orientation='horizontal',\n",
    "    readout=False,\n",
    "    readout_format='.2f',\n",
    "    style = {'description_width': 'initial'},\n",
    "    layout=widgets.Layout(flex='8')\n",
    ")\n",
    "\n",
    "n = widgets.IntText(layout=widgets.Layout(width='25%'),flex='2')\n",
    "widgets.jslink((n0, 'value'), (n, 'value'))\n",
    "\n",
    "\n",
    "#tninning slider\n",
    "\n",
    "thinfac0 = widgets.IntSlider(\n",
    "    value = 10,\n",
    "    min=0,\n",
    "    max=1000,\n",
    "    step=1,\n",
    "    description='thinning factor:',\n",
    "    disabled = False,\n",
    "    continuous_update=False,\n",
    "    orientation='horizontal',\n",
    "    readout=False,\n",
    "    readout_format='.2f',\n",
    "    style = {'description_width': 'initial'},\n",
    "    layout=widgets.Layout(flex='8')\n",
    ")\n",
    "\n",
    "#textfield connected to parallax Nsamp_slider\n",
    "\n",
    "thinfac = widgets.IntText(layout=widgets.Layout(width='25%'),flex='2')\n",
    "widgets.jslink((thinfac0, 'value'), (thinfac, 'value'))\n",
    "\n",
    "# walker_init\n",
    "\n",
    "#Nburnin slider\n",
    "\n",
    "Nburnin0 = widgets.IntSlider(\n",
    "    value = 500,\n",
    "    min=0,\n",
    "    max=1000,\n",
    "    step=1,\n",
    "    description='number of burn-in samples:',\n",
    "    disabled = False,\n",
    "    continuous_update=False,\n",
    "    orientation='horizontal',\n",
    "    readout=False,\n",
    "    readout_format='.2f',\n",
    "    style = {'description_width': 'initial'},\n",
    "    layout=widgets.Layout(flex='8')\n",
    ")\n",
    "\n",
    "#textfield connected to Nburnin slider\n",
    "\n",
    "Nburnin = widgets.IntText(layout=widgets.Layout(width='25%'),flex='2')\n",
    "widgets.jslink((Nburnin0, 'value'), (Nburnin, 'value'))\n",
    "\n",
    "#parallax slider\n",
    "\n",
    "parallax0 = widgets.FloatSlider(\n",
    "    value = 2.8,\n",
    "    min=-0.5,\n",
    "    max=3,\n",
    "    step=0.01,\n",
    "    description='parallax [mas]:',\n",
    "    disabled = False,\n",
    "    continuous_update=False,\n",
    "    orientation='horizontal',\n",
    "    readout=False,\n",
    "    readout_format='.2f',\n",
    "    style = {'description_width': 'initial'},\n",
    "    layout=widgets.Layout(flex='8')\n",
    ")\n",
    "\n",
    "#textfield connected to parallax slider\n",
    "\n",
    "parallax = widgets.FloatText(layout=widgets.Layout(width='25%'),flex='2')\n",
    "widgets.jslink((parallax0, 'value'), (parallax, 'value'))\n",
    "\n",
    "#parallax_error slider\n",
    "\n",
    "parallax_error0 = widgets.FloatSlider(\n",
    "    value = 0.4,\n",
    "    min=0.001,\n",
    "    max=3,\n",
    "    step=0.001,\n",
    "    description='parallax error [mas]:',\n",
    "    disabled = False,\n",
    "    continuous_update=False,\n",
    "    orientation='horizontal',\n",
    "    readout=False,\n",
    "    readout_format='.2f',\n",
    "    style = {'description_width': 'initial'},\n",
    "    layout=widgets.Layout(flex='8')\n",
    ")\n",
    "\n",
    "#textfield connected to parallax_error slider\n",
    "\n",
    "parallax_error = widgets.FloatText(layout=widgets.Layout(width='25%'),flex='2')\n",
    "widgets.jslink((parallax_error0, 'value'), (parallax_error, 'value'))\n",
    "\n",
    "#rlen slider\n",
    "\n",
    "rlen0 = widgets.FloatSlider(\n",
    "    value=3.41901757752753e-06,\n",
    "    min=0,\n",
    "    max=1.000,\n",
    "    step=0.0001,\n",
    "    description='Length scale [kpc]:',\n",
    "    disabled=False,\n",
    "    continuous_update=False,\n",
    "    orientation='horizontal',\n",
    "    readout=False,\n",
    "    readout_format='.2f',\n",
    "    style = {'description_width': 'initial'},\n",
    "    layout=widgets.Layout(flex='8')\n",
    ")\n",
    "\n",
    "#textfield connected to parallax rlen-slider\n",
    "\n",
    "rlen = widgets.FloatText(layout=widgets.Layout(width='25%'),flex='2')\n",
    "widgets.jslink((rlen0, 'value'), (rlen, 'value'))\n",
    "\n",
    "# alpha-slider\n",
    "\n",
    "alpha0 = widgets.FloatSlider(\n",
    "    value=0.2,\n",
    "    min=0,\n",
    "    max=3,\n",
    "    step=0.01,\n",
    "    description='alpha:',\n",
    "    disabled = False ,\n",
    "    continuous_update=False,\n",
    "    orientation='horizontal',\n",
    "    readout=False,\n",
    "    readout_format='.2f',\n",
    "    style = {'description_width': 'initial'},\n",
    "    layout=widgets.Layout(flex='8')\n",
    ")\n",
    "\n",
    "#textfield connected to parallax alpha-slider\n",
    "\n",
    "alpha = widgets.FloatText(layout=widgets.Layout(width='25%'),flex='2')\n",
    "widgets.jslink((alpha0, 'value'), (alpha, 'value'))\n",
    "\n",
    "#beta-slider\n",
    "\n",
    "beta0 = widgets.FloatSlider(\n",
    "    value=7.5,\n",
    "    min=0,\n",
    "    max=3.00,\n",
    "    step=0.01,\n",
    "    description='beta:',\n",
    "    disabled = False,\n",
    "    continuous_update=False,\n",
    "    orientation='horizontal',\n",
    "    readout=False,\n",
    "    readout_format='.2f',\n",
    "    style = {'description_width': 'initial'},\n",
    "    layout=widgets.Layout(flex='8')\n",
    ")\n",
    "\n",
    "#textfield connected to slider\n",
    "\n",
    "beta = widgets.FloatText(layout=widgets.Layout(width='25%'),flex='2')\n",
    "widgets.jslink((beta0, 'value'), (beta, 'value'))\n",
    "\n",
    "#mu_ra\n",
    "\n",
    "mu_ra0 = widgets.FloatSlider(\n",
    "    value=-6.2,\n",
    "    min=-60,\n",
    "    max=60,\n",
    "    step=0.1,\n",
    "    description='propm ra [km/s]: ',\n",
    "    disabled = False,\n",
    "    continuous_update=False,\n",
    "    orientation='horizontal',\n",
    "    readout=False,\n",
    "    readout_format='.2f',\n",
    "    style = {'description_width': 'initial'},\n",
    "    layout=widgets.Layout(flex='8')\n",
    ")\n",
    "\n",
    "#textfield connected to slider\n",
    "\n",
    "mu_ra= widgets.FloatText(layout=widgets.Layout(width='25%'),flex='2')\n",
    "widgets.jslink((mu_ra0, 'value'), (mu_ra, 'value'))\n",
    "\n",
    "#mu_dec\n",
    "\n",
    "mu_dec0 = widgets.FloatSlider(\n",
    "    value=-16.7,\n",
    "    min=-60,\n",
    "    max=60,\n",
    "    step=0.1,\n",
    "    description='propm dec [km/s]: ',\n",
    "    disabled = False,\n",
    "    continuous_update=False,\n",
    "    orientation='horizontal',\n",
    "    readout=False,\n",
    "    readout_format='.2f',\n",
    "    style = {'description_width': 'initial'},\n",
    "    layout=widgets.Layout(flex='8')\n",
    ")\n",
    "\n",
    "#textfield connected to slider\n",
    "\n",
    "mu_dec= widgets.FloatText(layout=widgets.Layout(width='25%'),flex='2')\n",
    "widgets.jslink((mu_dec0, 'value'), (mu_dec, 'value'))\n",
    "\n",
    "#sd_mu_ra\n",
    "\n",
    "sd_mu_ra0 = widgets.FloatSlider(\n",
    "    value=0.87,\n",
    "    min=-60,\n",
    "    max=60,\n",
    "    step=0.1,\n",
    "    description='propm ra error[km/s]: ',\n",
    "    disabled = False,\n",
    "    continuous_update=False,\n",
    "    orientation='horizontal',\n",
    "    readout=False,\n",
    "    readout_format='.2f',\n",
    "    style = {'description_width': 'initial'},\n",
    "    layout=widgets.Layout(flex='8')\n",
    ")\n",
    "\n",
    "#textfield connected to slider\n",
    "\n",
    "sd_mu_ra= widgets.FloatText(layout=widgets.Layout(width='25%'),flex='2')\n",
    "widgets.jslink((sd_mu_ra0, 'value'), (sd_mu_ra, 'value'))\n",
    "\n",
    "\n",
    "#sd_mu_dec\n",
    "\n",
    "sd_mu_dec0 = widgets.FloatSlider(\n",
    "    value=0.55,\n",
    "    min=-60,\n",
    "    max=60,\n",
    "    step=0.1,\n",
    "    description='propm dec error[km/s]: ',\n",
    "    disabled = False,\n",
    "    continuous_update=False,\n",
    "    orientation='horizontal',\n",
    "    readout=False,\n",
    "    readout_format='.2f',\n",
    "    style = {'description_width': 'initial'},\n",
    "    layout=widgets.Layout(flex='8')\n",
    ")\n",
    "sd_mu_dec= widgets.FloatText(layout=widgets.Layout(width='25%'),flex='2')\n",
    "widgets.jslink((sd_mu_dec0, 'value'), (sd_mu_dec, 'value'))\n",
    "\n",
    "\n",
    "\n",
    "#corr_w_mu_ra\n",
    "\n",
    "corr_w_mu_ra0 = widgets.FloatSlider(\n",
    "    value=0.25,\n",
    "    min=-1,\n",
    "    max=1,\n",
    "    step=0.1,\n",
    "    description='parallax - propm ra correlation: ',\n",
    "    disabled = False,\n",
    "    continuous_update=False,\n",
    "    orientation='horizontal',\n",
    "    readout=False,\n",
    "    readout_format='.2f',\n",
    "    style = {'description_width': 'initial'},\n",
    "    layout=widgets.Layout(flex='8')\n",
    ")\n",
    "corr_w_mu_ra= widgets.FloatText(layout=widgets.Layout(width='25%'),flex='2')\n",
    "widgets.jslink((corr_w_mu_ra0, 'value'), (corr_w_mu_ra, 'value'))\n",
    "\n",
    "#corr_w_mu_dec\n",
    "corr_w_mu_dec0 = widgets.FloatSlider(\n",
    "    value=0.14,\n",
    "    min=-1,\n",
    "    max=1,\n",
    "    step=0.1,\n",
    "    description='parallax - propm dec correlation: ',\n",
    "    disabled = False,\n",
    "    continuous_update=False,\n",
    "    orientation='horizontal',\n",
    "    readout=False,\n",
    "    readout_format='.2f',\n",
    "    style = {'description_width': 'initial'},\n",
    "    layout=widgets.Layout(flex='8')\n",
    ")\n",
    "corr_w_mu_dec= widgets.FloatText(layout=widgets.Layout(width='25%'),flex='2')\n",
    "widgets.jslink((corr_w_mu_dec0, 'value'), (corr_w_mu_dec, 'value'))\n",
    "\n",
    "#corr_mu_ra_dec\n",
    "\n",
    "corr_mu_ra_dec0 = widgets.FloatSlider(\n",
    "    value=-0.37,\n",
    "    min=-1,\n",
    "    max=1,\n",
    "    step=0.1,\n",
    "    description='propm ra - propm dec correlation: ',\n",
    "    disabled = False,\n",
    "    continuous_update=False,\n",
    "    orientation='horizontal',\n",
    "    readout=False,\n",
    "    readout_format='.2f',\n",
    "    style = {'description_width': 'initial'},\n",
    "    layout=widgets.Layout(flex='8')\n",
    ")\n",
    "corr_mu_ra_dec= widgets.FloatText(layout=widgets.Layout(width='25%'),flex='2')\n",
    "widgets.jslink((corr_mu_ra_dec0, 'value'), (corr_mu_ra_dec, 'value'))\n",
    "\n",
    "#healpix\n",
    "\n",
    "healpix0 = widgets.IntSlider(\n",
    "    value=50,\n",
    "    min=0,\n",
    "    max=12288,\n",
    "    step=1,\n",
    "    description='healpix: ',\n",
    "    disabled = False,\n",
    "    continuous_update=False,\n",
    "    orientation='horizontal',\n",
    "    readout=False,\n",
    "    #readout_format='.2f',\n",
    "    style = {'description_width': 'initial'},\n",
    "    layout=widgets.Layout(flex='8')\n",
    ")\n",
    "healpix= widgets.IntText(layout=widgets.Layout(width='25%'),flex='2')\n",
    "widgets.jslink((healpix0, 'value'), (healpix, 'value'))\n",
    "\n",
    "healpix_description=widgets.Label(value='healpix only used for velocity prior; not for geometric distance prior')\n",
    "\n",
    "walker_init = widgets.Text(\n",
    "    value='0.31, 0.35, 0.36, 0.37',\n",
    "    description='walker initialisation [kpc]',\n",
    "    disabled=False,\n",
    "    style = {'description_width': 'initial'},\n",
    "    layout=widgets.Layout(flex='8')\n",
    ")\n",
    "\n",
    "\n",
    "# display all widgets\n",
    "\n",
    "display(sampler)\n",
    "display(data)\n",
    "\n",
    "display(widgets.HBox([source_id, description_text]))\n",
    "display(filename_in)\n",
    "display(filename_out)\n",
    "display(seed)\n",
    "display(Markdown(\" \"))\n",
    "display(Markdown(\"**General sampling settings:** \"))\n",
    "display(Markdown(\"(are used for each possible mode) \"))\n",
    "hbox_layout = widgets.Layout(display='flex', flex_flow='row', justify_content='space-between', width='100%')\n",
    "\n",
    "display(widgets.HBox([Nsamp0,Nsamp],layout=hbox_layout))\n",
    "display(widgets.HBox([Nburnin0,Nburnin],layout=hbox_layout))\n",
    "display(widgets.HBox([thinfac0,thinfac],layout=hbox_layout))\n",
    "display(widgets.HBox([n0,n],layout=hbox_layout))\n",
    "\n",
    "display(Markdown(\" \"))\n",
    "display(Markdown(\"**Sampling settings only required for metropolis when processing a single source:**\"))\n",
    "display(Markdown(\"(when processing multiple sources, the initialisation will be 1/abs(parallax) and the stepsize will be 0.75* initialisation* min(1/3,abs(parallax_error/parallax)))\"))\n",
    "display(widgets.HBox([rInit0,rInit],layout=hbox_layout))\n",
    "display(widgets.HBox([rStep0,rStep],layout=hbox_layout))\n",
    "display(Markdown(\" \"))\n",
    "display(Markdown(\"**Sampling settings only required for emcee when processing a single source:** \"))\n",
    "display(walker_init)\n",
    "# display input data \n",
    "display(Markdown(\" \"))\n",
    "display(Markdown(\"**Input data when using own input data for a single source:**\"))\n",
    "\n",
    "display(widgets.HBox([parallax0,parallax],layout=hbox_layout))\n",
    "display(widgets.HBox([parallax_error0,parallax_error],layout=hbox_layout))\n",
    "display(widgets.HBox([rlen0,rlen],layout=hbox_layout))\n",
    "display(widgets.HBox([alpha0,alpha],layout=hbox_layout))\n",
    "display(widgets.HBox([beta0,beta],layout=hbox_layout))\n",
    "display(widgets.HBox([mu_ra0,mu_ra],layout=hbox_layout))\n",
    "display(widgets.HBox([mu_dec0,mu_dec],layout=hbox_layout))\n",
    "display(widgets.HBox([sd_mu_ra0,sd_mu_ra],layout=hbox_layout))\n",
    "display(widgets.HBox([sd_mu_dec0,sd_mu_dec],layout=hbox_layout))\n",
    "display(widgets.HBox([corr_w_mu_ra0,corr_w_mu_ra],layout=hbox_layout))\n",
    "display(widgets.HBox([corr_w_mu_dec0,corr_w_mu_dec],layout=hbox_layout))\n",
    "display(widgets.HBox([corr_mu_ra_dec0,corr_mu_ra_dec],layout=hbox_layout))\n",
    "display(widgets.HBox([healpix0,healpix,healpix_description],layout=hbox_layout))\n",
    "\n",
    "out = widgets.Output()\n",
    "\n",
    "# submit button\n",
    "\n",
    "submit_button = widgets.Button(description='start')\n",
    "display(submit_button)\n",
    "\n",
    "# submit function: when clicking submit, the simulation is run for all settings that have been made\n",
    "\n",
    "def submit(button):\n",
    "    out.clear_output()\n",
    "    with out:\n",
    "        interactive_velocity_function(data = data.value, sampler=sampler.value, seed=seed.value, source_id = source_id.value, \n",
    "                                      parallax=parallax.value, parallax_error=parallax_error.value, alpha=alpha.value, beta=beta.value, rlen=rlen.value, \n",
    "                                      mu_ra=mu_ra.value, mu_dec=mu_dec.value, sd_mu_ra=sd_mu_ra.value, sd_mu_dec=sd_mu_dec.value, \n",
    "                                      corr_w_mu_ra= corr_w_mu_ra.value, corr_w_mu_dec=corr_w_mu_dec.value, corr_mu_ra_dec=corr_mu_ra_dec.value, \n",
    "                                      healpix=int(healpix.value),\n",
    "                                      walker_init=np.array([float(x) for x in walker_init.value.split(', ')]).reshape(-1, 1) , \n",
    "                                      rInit=rInit.value, rStep=rStep.value, Nsamp=Nsamp.value, \n",
    "                                      thinfac=thinfac.value, Nburnin=Nburnin.value, n=n.value, \n",
    "                                      filename_in = filename_in.value,filename_out = filename_out.value, rows_prior_summary=rows_prior_summary)\n",
    "        \n",
    "# tie submit button to a function\n",
    "submit_button.on_click(submit)\n",
    "\n",
    "out \n"
   ]
  },
  {
   "cell_type": "code",
   "execution_count": null,
   "id": "13cf1063-1436-469c-a59c-f7c0f70e57be",
   "metadata": {},
   "outputs": [],
   "source": []
  },
  {
   "cell_type": "code",
   "execution_count": null,
   "id": "eec03611-3dc3-4043-a0e3-f28d72670476",
   "metadata": {},
   "outputs": [],
   "source": []
  },
  {
   "cell_type": "code",
   "execution_count": null,
   "id": "c5587188-cbe8-4691-9290-b2228de633cf",
   "metadata": {},
   "outputs": [],
   "source": []
  }
 ],
 "metadata": {
  "kernelspec": {
   "display_name": "Python 3 (ipykernel)",
   "language": "python",
   "name": "python3"
  },
  "language_info": {
   "codemirror_mode": {
    "name": "ipython",
    "version": 3
   },
   "file_extension": ".py",
   "mimetype": "text/x-python",
   "name": "python",
   "nbconvert_exporter": "python",
   "pygments_lexer": "ipython3",
   "version": "3.9.13"
  }
 },
 "nbformat": 4,
 "nbformat_minor": 5
}
